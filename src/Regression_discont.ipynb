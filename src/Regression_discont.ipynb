{
 "cells": [
  {
   "cell_type": "markdown",
   "metadata": {},
   "source": [
    "## 1. Application of regression discontinuity: banking recovery ${^1}$\n",
    "<p> Regression discontinuity searches for jumps in the output regression function such that at such points, the regression function which is usually, at least, C<sup>0</sup> continuous loses its property of continuity at such jump regions. This methodology can be used to model processes that exhibit certain jumps caused due to a change in the underlying mechanism where location of the jump may be of interest. One such process is debt recovery in banks where the recovery amount can depends on recovery strategies. In general, more expensive recovery strategies can lead to higher proportion of recovered funds. Profitability of these decisions hinges on optimizing appropriate recovery strategies to acheive a balance of recovery expenses incurred and recovered funds. Regression discontinuity can be applied in such problems to determine the effect of the recovery strategy and the profitability of it. </p>\n",
    "<p><img src=\"images/disgraph.png\",width=\"800\",height=\"800\"></p>\n",
    "<p>First, we'll load the banking dataset and look at the first few rows of data. This lets us understand the dataset itself and begin thinking about how to analyze the data.</p>\n",
    "<sub>[1] Howard Friedman, \"Which Debts Are Worth the Bank's Effort?\", Datacamp </sub>"
   ]
  },
  {
   "cell_type": "code",
   "execution_count": null,
   "metadata": {},
   "outputs": [],
   "source": [
    "import pandas as pd\n",
    "import numpy as np\n",
    "\n",
    "pd.read_csv('')"
   ]
  }
 ],
 "metadata": {
  "kernelspec": {
   "display_name": "Python 3",
   "language": "python",
   "name": "python3"
  },
  "language_info": {
   "codemirror_mode": {
    "name": "ipython",
    "version": 3
   },
   "file_extension": ".py",
   "mimetype": "text/x-python",
   "name": "python",
   "nbconvert_exporter": "python",
   "pygments_lexer": "ipython3",
   "version": "3.7.4"
  }
 },
 "nbformat": 4,
 "nbformat_minor": 2
}
